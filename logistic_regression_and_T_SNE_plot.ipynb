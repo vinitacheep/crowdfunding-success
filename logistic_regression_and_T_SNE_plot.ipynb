{
  "cells": [
    {
      "cell_type": "markdown",
      "metadata": {
        "id": "n_J7K-QiIX6a"
      },
      "source": [
        "# Linear Regression"
      ]
    },
    {
      "cell_type": "code",
      "execution_count": null,
      "metadata": {
        "id": "3vG55IzVIX6j"
      },
      "outputs": [],
      "source": [
        "import numpy as np\n",
        "import pandas as pd\n",
        "import os\n",
        "import random\n",
        "import time\n",
        "import matplotlib.pyplot as plt\n",
        "from collections import Counter\n",
        "\n",
        "\n",
        "from sklearn.preprocessing import MinMaxScaler\n",
        "from sklearn.linear_model import LogisticRegression\n",
        "from sklearn.model_selection import train_test_split, StratifiedKFold, GridSearchCV\n",
        "from sklearn.metrics import classification_report, confusion_matrix\n",
        "from sklearn.metrics import RocCurveDisplay, PrecisionRecallDisplay, ConfusionMatrixDisplay\n",
        "from sklearn.metrics import roc_curve, precision_recall_curve, auc, average_precision_score, accuracy_score\n",
        "\n",
        "import tensorflow as tf"
      ]
    },
    {
      "cell_type": "code",
      "execution_count": null,
      "metadata": {
        "id": "P-RG06JqIX6k"
      },
      "outputs": [],
      "source": [
        "#import data\n",
        "df = pd.read_csv(\"/Users/advait/Downloads/encodings (1).csv\")\n",
        "\n",
        "#split data into train/test\n",
        "X = df\n",
        "\n",
        "df_outcomes = pd.read_csv(\"/Users/advait/Downloads/small_filtered_geotagged_surgery_campaigns.csv\")\n",
        "y_new = df_outcomes['raised_amnt'].to_numpy() / df_outcomes['goal_amnt'].to_numpy()\n",
        "\n",
        "y = []\n",
        "for item in y_new:\n",
        "    if item >= 1:\n",
        "        y.append(1)\n",
        "    else:\n",
        "        y.append(0)\n",
        "\n",
        "x_train, x_test, y_train, y_test = train_test_split(X, y, test_size=0.2, stratify=y, random_state=5)\n"
      ]
    },
    {
      "cell_type": "code",
      "execution_count": null,
      "metadata": {
        "id": "vVL2Tah0IX6l",
        "outputId": "2f168847-cfe7-4589-c33f-b9a5177e8b06"
      },
      "outputs": [
        {
          "name": "stdout",
          "output_type": "stream",
          "text": [
            "Fitting 5 folds for each of 6 candidates, totalling 30 fits\n"
          ]
        },
        {
          "name": "stderr",
          "output_type": "stream",
          "text": [
            "[Parallel(n_jobs=-1)]: Using backend LokyBackend with 8 concurrent workers.\n",
            "[Parallel(n_jobs=-1)]: Done  30 out of  30 | elapsed:    5.5s finished\n"
          ]
        },
        {
          "name": "stdout",
          "output_type": "stream",
          "text": [
            "CPU times: user 709 ms, sys: 154 ms, total: 863 ms\n",
            "Wall time: 5.93 s\n"
          ]
        },
        {
          "data": {
            "text/plain": [
              "GridSearchCV(cv=StratifiedKFold(n_splits=5, random_state=5, shuffle=True),\n",
              "             error_score=nan,\n",
              "             estimator=LogisticRegression(C=1.0, class_weight=None, dual=False,\n",
              "                                          fit_intercept=True,\n",
              "                                          intercept_scaling=1, l1_ratio=None,\n",
              "                                          max_iter=100, multi_class='auto',\n",
              "                                          n_jobs=None, penalty='l1',\n",
              "                                          random_state=None, solver='liblinear',\n",
              "                                          tol=0.0001, verbose=0,\n",
              "                                          warm_start=False),\n",
              "             iid='deprecated', n_jobs=-1,\n",
              "             param_grid={'C': [0.01, 0.1, 1, 10, 100, 1000]},\n",
              "             pre_dispatch='2*n_jobs', refit=True, return_train_score=False,\n",
              "             scoring='average_precision', verbose=True)"
            ]
          },
          "execution_count": 65,
          "metadata": {},
          "output_type": "execute_result"
        }
      ],
      "source": [
        "param_grid = {\n",
        "        'C': [0.01, 0.1, 1, 10, 100, 1000]\n",
        "        }\n",
        "\n",
        "log = LogisticRegression(penalty='l1', solver='liblinear')\n",
        "cv = StratifiedKFold(5, shuffle=True, random_state=5)\n",
        "model = GridSearchCV(log, param_grid, cv = cv, refit = True, verbose=True, n_jobs = -1, scoring = 'average_precision')\n",
        "\n",
        "%time model.fit(x_train, y_train)"
      ]
    },
    {
      "cell_type": "code",
      "execution_count": null,
      "metadata": {
        "id": "HBiGoylOIX6m",
        "outputId": "f0f9fa8d-f4cd-48c5-f398-da49c2f53516"
      },
      "outputs": [
        {
          "data": {
            "text/plain": [
              "{'C': 10,\n",
              " 'class_weight': None,\n",
              " 'dual': False,\n",
              " 'fit_intercept': True,\n",
              " 'intercept_scaling': 1,\n",
              " 'l1_ratio': None,\n",
              " 'max_iter': 100,\n",
              " 'multi_class': 'auto',\n",
              " 'n_jobs': None,\n",
              " 'penalty': 'l1',\n",
              " 'random_state': None,\n",
              " 'solver': 'liblinear',\n",
              " 'tol': 0.0001,\n",
              " 'verbose': 0,\n",
              " 'warm_start': False}"
            ]
          },
          "execution_count": 66,
          "metadata": {},
          "output_type": "execute_result"
        }
      ],
      "source": [
        "best_params = model.best_estimator_.get_params()\n",
        "best_params"
      ]
    },
    {
      "cell_type": "code",
      "execution_count": null,
      "metadata": {
        "id": "eE9CzsrDIX6m",
        "outputId": "2bf483a7-0090-498a-a3e9-5d6f8562f6e5"
      },
      "outputs": [
        {
          "name": "stdout",
          "output_type": "stream",
          "text": [
            "Cutoff:  0.1\n",
            "              precision    recall  f1-score   support\n",
            "\n",
            "    negative       0.86      0.62      0.72       172\n",
            "    positive       0.13      0.36      0.19        28\n",
            "\n",
            "    accuracy                           0.58       200\n",
            "   macro avg       0.49      0.49      0.46       200\n",
            "weighted avg       0.75      0.58      0.65       200\n",
            "\n",
            "Cutoff:  0.2\n",
            "              precision    recall  f1-score   support\n",
            "\n",
            "    negative       0.86      0.80      0.83       172\n",
            "    positive       0.12      0.18      0.15        28\n",
            "\n",
            "    accuracy                           0.71       200\n",
            "   macro avg       0.49      0.49      0.49       200\n",
            "weighted avg       0.75      0.71      0.73       200\n",
            "\n",
            "Cutoff:  0.3\n",
            "              precision    recall  f1-score   support\n",
            "\n",
            "    negative       0.86      0.85      0.85       172\n",
            "    positive       0.13      0.14      0.14        28\n",
            "\n",
            "    accuracy                           0.75       200\n",
            "   macro avg       0.50      0.50      0.50       200\n",
            "weighted avg       0.76      0.75      0.75       200\n",
            "\n",
            "Cutoff:  0.4\n",
            "              precision    recall  f1-score   support\n",
            "\n",
            "    negative       0.85      0.89      0.87       172\n",
            "    positive       0.10      0.07      0.08        28\n",
            "\n",
            "    accuracy                           0.78       200\n",
            "   macro avg       0.47      0.48      0.48       200\n",
            "weighted avg       0.75      0.78      0.76       200\n",
            "\n",
            "Cutoff:  0.5\n",
            "              precision    recall  f1-score   support\n",
            "\n",
            "    negative       0.86      0.92      0.89       172\n",
            "    positive       0.12      0.07      0.09        28\n",
            "\n",
            "    accuracy                           0.80       200\n",
            "   macro avg       0.49      0.50      0.49       200\n",
            "weighted avg       0.76      0.80      0.78       200\n",
            "\n",
            "Cutoff:  0.6\n",
            "              precision    recall  f1-score   support\n",
            "\n",
            "    negative       0.86      0.93      0.89       172\n",
            "    positive       0.14      0.07      0.10        28\n",
            "\n",
            "    accuracy                           0.81       200\n",
            "   macro avg       0.50      0.50      0.49       200\n",
            "weighted avg       0.76      0.81      0.78       200\n",
            "\n",
            "Cutoff:  0.7\n",
            "              precision    recall  f1-score   support\n",
            "\n",
            "    negative       0.86      0.95      0.90       172\n",
            "    positive       0.18      0.07      0.10        28\n",
            "\n",
            "    accuracy                           0.82       200\n",
            "   macro avg       0.52      0.51      0.50       200\n",
            "weighted avg       0.77      0.82      0.79       200\n",
            "\n",
            "Cutoff:  0.8\n",
            "              precision    recall  f1-score   support\n",
            "\n",
            "    negative       0.86      0.96      0.91       172\n",
            "    positive       0.22      0.07      0.11        28\n",
            "\n",
            "    accuracy                           0.83       200\n",
            "   macro avg       0.54      0.52      0.51       200\n",
            "weighted avg       0.77      0.83      0.80       200\n",
            "\n",
            "Cutoff:  0.9\n",
            "              precision    recall  f1-score   support\n",
            "\n",
            "    negative       0.86      0.98      0.92       172\n",
            "    positive       0.20      0.04      0.06        28\n",
            "\n",
            "    accuracy                           0.84       200\n",
            "   macro avg       0.53      0.51      0.49       200\n",
            "weighted avg       0.77      0.84      0.80       200\n",
            "\n"
          ]
        }
      ],
      "source": [
        "#assess performance\n",
        "\n",
        "y_pred = model.predict_proba(x_test)\n",
        "# Convert proabilities to binary output for performance assessment, 0.5 cutoff\n",
        "y_pred_binary = np.where(y_pred[:,1] > 0.5, 1, 0)\n",
        "\n",
        "# Metrics at different probability cutoffs\n",
        "# (pos label assigned if pos class probability > cutoff)\n",
        "\n",
        "cutoffs = np.arange(0.1, 1, 0.1)\n",
        "target_names = ['negative', 'positive']\n",
        "\n",
        "for cutoff in cutoffs:\n",
        "  print('Cutoff: ', round(cutoff, 2))\n",
        "  print(classification_report(y_test, np.where(y_pred[:,1] > cutoff, 1, 0), target_names=target_names))\n"
      ]
    },
    {
      "cell_type": "code",
      "execution_count": null,
      "metadata": {
        "id": "oYTCpbKuIX6n",
        "outputId": "102defd7-84c9-454b-aee6-f415c802a593"
      },
      "outputs": [
        {
          "name": "stdout",
          "output_type": "stream",
          "text": [
            "Recall:\t\t\t 92.857\n",
            "Specificity:\t\t 9.884\n",
            "AUROC:\t\t\t 0.462\n",
            "Probabitiy cutoff:\t 0.002\n",
            "Accuracy:\t\t 21.5\n",
            "Average Precision:\t 14.659\n",
            "F1-score:\t\t 24.88\n"
          ]
        }
      ],
      "source": [
        "# Metrics at Positive class Recall of at least 90\n",
        "\n",
        "from sklearn.metrics import f1_score\n",
        "# get roc\n",
        "y_pos = y_pred[:, 1]\n",
        "fpr, tpr, thresholds = roc_curve(y_test, y_pos)\n",
        "\n",
        "# get index of sensitivity closest to 90+\n",
        "indeces = np.where(tpr >= 0.9)[0]\n",
        "i = indeces[tpr[indeces].argmin()]\n",
        "\n",
        "# calculate metrics\n",
        "auroc = auc(fpr, tpr)\n",
        "sens = tpr[i]*100\n",
        "spec = (1 - fpr[i])*100\n",
        "cutoff = thresholds[i]\n",
        "y_pred_bin = (y_pred[:,1] >= cutoff).astype(int)\n",
        "acc = accuracy_score(y_test, y_pred_bin)*100\n",
        "avg_prec = average_precision_score(y_test, y_pos)*100\n",
        "f1 = f1_score(y_test, y_pred_bin)*100\n",
        "\n",
        "print(\"Recall:\\t\\t\\t\", round(sens, 3))\n",
        "print(\"Specificity:\\t\\t\", round(spec,3))\n",
        "print(\"AUROC:\\t\\t\\t\", round(auroc, 3))\n",
        "print(\"Probabitiy cutoff:\\t\", round(cutoff, 3))\n",
        "print('Accuracy:\\t\\t', round(acc, 3))\n",
        "print('Average Precision:\\t', round(avg_prec, 3))\n",
        "print('F1-score:\\t\\t', round(f1, 3))"
      ]
    },
    {
      "cell_type": "code",
      "execution_count": null,
      "metadata": {
        "id": "nVvwhHV7IX6o",
        "outputId": "8f792e6f-5b4e-47f6-b614-8fa501041ccc"
      },
      "outputs": [
        {
          "data": {
            "image/png": "[encoded data removed]",
            "text/plain": [
              "<Figure size 432x288 with 1 Axes>"
            ]
          },
          "metadata": {
            "needs_background": "light"
          },
          "output_type": "display_data"
        }
      ],
      "source": [
        "# plot ROC curve\n",
        "plt.plot(fpr, tpr, label='Linear Classifier (AUROC = %0.2f)' % (auroc))\n",
        "plt.xlim([-0.05, 1.05])\n",
        "plt.ylim([-0.05, 1.05])\n",
        "plt.axhline(y=sens/100, color='r', linestyle='--', linewidth=1)\n",
        "plt.axvline(x=1-spec/100, color='r', linestyle='--', linewidth=1)\n",
        "plt.xlabel('False positive rate')\n",
        "plt.ylabel('True positive rate (Recall)')\n",
        "plt.legend(loc=\"lower right\")\n",
        "plt.show()"
      ]
    },
    {
      "cell_type": "code",
      "execution_count": null,
      "metadata": {
        "id": "HE5lSwWMIX6p",
        "outputId": "e70df5ce-3bfd-48a9-f076-7348242f5f9c"
      },
      "outputs": [
        {
          "name": "stdout",
          "output_type": "stream",
          "text": [
            "1024\n"
          ]
        },
        {
          "data": {
            "text/plain": [
              "225"
            ]
          },
          "execution_count": 71,
          "metadata": {},
          "output_type": "execute_result"
        }
      ],
      "source": [
        "#get coefficients and feature names\n",
        "param_list = model.best_estimator_.coef_\n",
        "param_list_new = []\n",
        "for item in param_list:\n",
        "    for element in item:\n",
        "        param_list_new.append(element)\n",
        "\n",
        "cols = list(X.columns)\n",
        "\n",
        "#get total initial features and non-zero featuers after CV\n",
        "print(len(param_list[0]))\n",
        "np.count_nonzero(param_list)"
      ]
    },
    {
      "cell_type": "markdown",
      "metadata": {
        "id": "LBmkXK1AIX6p"
      },
      "source": [
        "## T-SNE and PCA Plot Generation"
      ]
    },
    {
      "cell_type": "code",
      "execution_count": null,
      "metadata": {
        "id": "lX570yN9IX6q"
      },
      "outputs": [],
      "source": [
        "from sklearn.manifold import TSNE\n",
        "from keras.datasets import mnist\n",
        "from sklearn.datasets import load_iris\n",
        "from numpy import reshape\n",
        "import seaborn as sns\n",
        "import pandas as pd\n",
        "from sklearn import datasets\n",
        "from sklearn.decomposition import PCA\n",
        "from sklearn.discriminant_analysis import LinearDiscriminantAnalysis\n",
        "import matplotlib.pyplot as plt"
      ]
    },
    {
      "cell_type": "code",
      "execution_count": null,
      "metadata": {
        "id": "tbIaWhD7IX6q",
        "outputId": "84959d20-a5f6-483c-ad60-f64aeba34360"
      },
      "outputs": [
        {
          "data": {
            "text/html": [
              "<div>\n",
              "<style scoped>\n",
              "    .dataframe tbody tr th:only-of-type {\n",
              "        vertical-align: middle;\n",
              "    }\n",
              "\n",
              "    .dataframe tbody tr th {\n",
              "        vertical-align: top;\n",
              "    }\n",
              "\n",
              "    .dataframe thead th {\n",
              "        text-align: right;\n",
              "    }\n",
              "</style>\n",
              "<table border=\"1\" class=\"dataframe\">\n",
              "  <thead>\n",
              "    <tr style=\"text-align: right;\">\n",
              "      <th></th>\n",
              "      <th>0</th>\n",
              "      <th>1</th>\n",
              "      <th>2</th>\n",
              "      <th>3</th>\n",
              "      <th>4</th>\n",
              "      <th>5</th>\n",
              "      <th>6</th>\n",
              "      <th>7</th>\n",
              "      <th>8</th>\n",
              "      <th>9</th>\n",
              "      <th>...</th>\n",
              "      <th>1014</th>\n",
              "      <th>1015</th>\n",
              "      <th>1016</th>\n",
              "      <th>1017</th>\n",
              "      <th>1018</th>\n",
              "      <th>1019</th>\n",
              "      <th>1020</th>\n",
              "      <th>1021</th>\n",
              "      <th>1022</th>\n",
              "      <th>1023</th>\n",
              "    </tr>\n",
              "  </thead>\n",
              "  <tbody>\n",
              "    <tr>\n",
              "      <th>0</th>\n",
              "      <td>-0.138775</td>\n",
              "      <td>-0.134521</td>\n",
              "      <td>-0.063372</td>\n",
              "      <td>-0.154899</td>\n",
              "      <td>0.087668</td>\n",
              "      <td>0.105536</td>\n",
              "      <td>-0.074884</td>\n",
              "      <td>0.269079</td>\n",
              "      <td>-0.011446</td>\n",
              "      <td>0.147174</td>\n",
              "      <td>...</td>\n",
              "      <td>0.085047</td>\n",
              "      <td>0.044644</td>\n",
              "      <td>0.029305</td>\n",
              "      <td>-0.055580</td>\n",
              "      <td>0.076145</td>\n",
              "      <td>0.184646</td>\n",
              "      <td>0.103795</td>\n",
              "      <td>-0.086645</td>\n",
              "      <td>0.180766</td>\n",
              "      <td>-0.033928</td>\n",
              "    </tr>\n",
              "    <tr>\n",
              "      <th>1</th>\n",
              "      <td>0.003642</td>\n",
              "      <td>-0.043849</td>\n",
              "      <td>0.000433</td>\n",
              "      <td>-0.031345</td>\n",
              "      <td>0.003612</td>\n",
              "      <td>0.077938</td>\n",
              "      <td>0.005614</td>\n",
              "      <td>0.115526</td>\n",
              "      <td>-0.080045</td>\n",
              "      <td>-0.048168</td>\n",
              "      <td>...</td>\n",
              "      <td>-0.066312</td>\n",
              "      <td>0.019515</td>\n",
              "      <td>0.013033</td>\n",
              "      <td>0.034492</td>\n",
              "      <td>0.065479</td>\n",
              "      <td>0.017960</td>\n",
              "      <td>0.114549</td>\n",
              "      <td>-0.009609</td>\n",
              "      <td>0.083476</td>\n",
              "      <td>0.033553</td>\n",
              "    </tr>\n",
              "    <tr>\n",
              "      <th>2</th>\n",
              "      <td>-0.038522</td>\n",
              "      <td>-0.059176</td>\n",
              "      <td>-0.189841</td>\n",
              "      <td>0.051283</td>\n",
              "      <td>0.212852</td>\n",
              "      <td>0.208619</td>\n",
              "      <td>-0.172545</td>\n",
              "      <td>0.164035</td>\n",
              "      <td>-0.020979</td>\n",
              "      <td>0.108466</td>\n",
              "      <td>...</td>\n",
              "      <td>-0.134324</td>\n",
              "      <td>0.122922</td>\n",
              "      <td>-0.254643</td>\n",
              "      <td>-0.016278</td>\n",
              "      <td>0.119167</td>\n",
              "      <td>0.000146</td>\n",
              "      <td>0.209319</td>\n",
              "      <td>-0.016491</td>\n",
              "      <td>0.454021</td>\n",
              "      <td>0.037648</td>\n",
              "    </tr>\n",
              "    <tr>\n",
              "      <th>3</th>\n",
              "      <td>-0.067542</td>\n",
              "      <td>-0.002222</td>\n",
              "      <td>-0.109844</td>\n",
              "      <td>-0.031730</td>\n",
              "      <td>0.078422</td>\n",
              "      <td>0.124127</td>\n",
              "      <td>-0.148275</td>\n",
              "      <td>0.207102</td>\n",
              "      <td>-0.072784</td>\n",
              "      <td>0.059620</td>\n",
              "      <td>...</td>\n",
              "      <td>-0.086426</td>\n",
              "      <td>0.095198</td>\n",
              "      <td>-0.206683</td>\n",
              "      <td>-0.032535</td>\n",
              "      <td>0.164407</td>\n",
              "      <td>0.199990</td>\n",
              "      <td>0.233593</td>\n",
              "      <td>-0.102626</td>\n",
              "      <td>0.227396</td>\n",
              "      <td>0.096586</td>\n",
              "    </tr>\n",
              "    <tr>\n",
              "      <th>4</th>\n",
              "      <td>-0.021845</td>\n",
              "      <td>-0.075340</td>\n",
              "      <td>0.009053</td>\n",
              "      <td>0.020771</td>\n",
              "      <td>0.067336</td>\n",
              "      <td>0.059046</td>\n",
              "      <td>0.019739</td>\n",
              "      <td>0.091832</td>\n",
              "      <td>-0.079951</td>\n",
              "      <td>-0.037688</td>\n",
              "      <td>...</td>\n",
              "      <td>-0.062683</td>\n",
              "      <td>0.016980</td>\n",
              "      <td>-0.026042</td>\n",
              "      <td>0.068283</td>\n",
              "      <td>0.063758</td>\n",
              "      <td>0.005649</td>\n",
              "      <td>0.087495</td>\n",
              "      <td>0.032726</td>\n",
              "      <td>0.176272</td>\n",
              "      <td>-0.023746</td>\n",
              "    </tr>\n",
              "    <tr>\n",
              "      <th>...</th>\n",
              "      <td>...</td>\n",
              "      <td>...</td>\n",
              "      <td>...</td>\n",
              "      <td>...</td>\n",
              "      <td>...</td>\n",
              "      <td>...</td>\n",
              "      <td>...</td>\n",
              "      <td>...</td>\n",
              "      <td>...</td>\n",
              "      <td>...</td>\n",
              "      <td>...</td>\n",
              "      <td>...</td>\n",
              "      <td>...</td>\n",
              "      <td>...</td>\n",
              "      <td>...</td>\n",
              "      <td>...</td>\n",
              "      <td>...</td>\n",
              "      <td>...</td>\n",
              "      <td>...</td>\n",
              "      <td>...</td>\n",
              "      <td>...</td>\n",
              "    </tr>\n",
              "    <tr>\n",
              "      <th>995</th>\n",
              "      <td>-0.038021</td>\n",
              "      <td>-0.047989</td>\n",
              "      <td>-0.040039</td>\n",
              "      <td>-0.032782</td>\n",
              "      <td>0.060194</td>\n",
              "      <td>0.140140</td>\n",
              "      <td>-0.044515</td>\n",
              "      <td>0.115942</td>\n",
              "      <td>-0.080381</td>\n",
              "      <td>-0.001695</td>\n",
              "      <td>...</td>\n",
              "      <td>-0.091513</td>\n",
              "      <td>-0.015340</td>\n",
              "      <td>-0.089240</td>\n",
              "      <td>0.018703</td>\n",
              "      <td>0.097285</td>\n",
              "      <td>0.044413</td>\n",
              "      <td>0.130693</td>\n",
              "      <td>-0.012833</td>\n",
              "      <td>0.210558</td>\n",
              "      <td>-0.002691</td>\n",
              "    </tr>\n",
              "    <tr>\n",
              "      <th>996</th>\n",
              "      <td>-0.194847</td>\n",
              "      <td>-0.097017</td>\n",
              "      <td>-0.176285</td>\n",
              "      <td>-0.074455</td>\n",
              "      <td>0.048515</td>\n",
              "      <td>0.169162</td>\n",
              "      <td>-0.271787</td>\n",
              "      <td>0.235547</td>\n",
              "      <td>-0.189705</td>\n",
              "      <td>0.049325</td>\n",
              "      <td>...</td>\n",
              "      <td>-0.056099</td>\n",
              "      <td>0.110536</td>\n",
              "      <td>-0.183148</td>\n",
              "      <td>0.037221</td>\n",
              "      <td>0.178865</td>\n",
              "      <td>0.089573</td>\n",
              "      <td>0.154234</td>\n",
              "      <td>-0.258560</td>\n",
              "      <td>0.422816</td>\n",
              "      <td>0.019143</td>\n",
              "    </tr>\n",
              "    <tr>\n",
              "      <th>997</th>\n",
              "      <td>-0.041421</td>\n",
              "      <td>-0.009365</td>\n",
              "      <td>-0.043257</td>\n",
              "      <td>-0.029077</td>\n",
              "      <td>0.005345</td>\n",
              "      <td>0.034554</td>\n",
              "      <td>0.016982</td>\n",
              "      <td>0.103925</td>\n",
              "      <td>0.034755</td>\n",
              "      <td>-0.068198</td>\n",
              "      <td>...</td>\n",
              "      <td>0.006713</td>\n",
              "      <td>0.027529</td>\n",
              "      <td>-0.007504</td>\n",
              "      <td>0.030613</td>\n",
              "      <td>0.112227</td>\n",
              "      <td>0.103403</td>\n",
              "      <td>0.080604</td>\n",
              "      <td>-0.021152</td>\n",
              "      <td>0.100993</td>\n",
              "      <td>-0.014497</td>\n",
              "    </tr>\n",
              "    <tr>\n",
              "      <th>998</th>\n",
              "      <td>-0.078937</td>\n",
              "      <td>-0.010870</td>\n",
              "      <td>-0.183584</td>\n",
              "      <td>0.067633</td>\n",
              "      <td>0.160960</td>\n",
              "      <td>0.044840</td>\n",
              "      <td>-0.133202</td>\n",
              "      <td>0.238594</td>\n",
              "      <td>0.041021</td>\n",
              "      <td>-0.015746</td>\n",
              "      <td>...</td>\n",
              "      <td>-0.088993</td>\n",
              "      <td>0.030635</td>\n",
              "      <td>-0.147651</td>\n",
              "      <td>-0.059050</td>\n",
              "      <td>0.205662</td>\n",
              "      <td>0.046806</td>\n",
              "      <td>0.210122</td>\n",
              "      <td>-0.005182</td>\n",
              "      <td>0.265557</td>\n",
              "      <td>0.047361</td>\n",
              "    </tr>\n",
              "    <tr>\n",
              "      <th>999</th>\n",
              "      <td>-0.050304</td>\n",
              "      <td>-0.048598</td>\n",
              "      <td>0.000071</td>\n",
              "      <td>-0.009315</td>\n",
              "      <td>-0.002784</td>\n",
              "      <td>0.057886</td>\n",
              "      <td>0.009134</td>\n",
              "      <td>0.050964</td>\n",
              "      <td>-0.085908</td>\n",
              "      <td>-0.099759</td>\n",
              "      <td>...</td>\n",
              "      <td>-0.029136</td>\n",
              "      <td>-0.015236</td>\n",
              "      <td>-0.010729</td>\n",
              "      <td>0.063000</td>\n",
              "      <td>0.083446</td>\n",
              "      <td>0.040705</td>\n",
              "      <td>0.062640</td>\n",
              "      <td>-0.010143</td>\n",
              "      <td>0.050548</td>\n",
              "      <td>0.014135</td>\n",
              "    </tr>\n",
              "  </tbody>\n",
              "</table>\n",
              "<p>1000 rows × 1024 columns</p>\n",
              "</div>"
            ],
            "text/plain": [
              "            0         1         2         3         4         5         6  \\\n",
              "0   -0.138775 -0.134521 -0.063372 -0.154899  0.087668  0.105536 -0.074884   \n",
              "1    0.003642 -0.043849  0.000433 -0.031345  0.003612  0.077938  0.005614   \n",
              "2   -0.038522 -0.059176 -0.189841  0.051283  0.212852  0.208619 -0.172545   \n",
              "3   -0.067542 -0.002222 -0.109844 -0.031730  0.078422  0.124127 -0.148275   \n",
              "4   -0.021845 -0.075340  0.009053  0.020771  0.067336  0.059046  0.019739   \n",
              "..        ...       ...       ...       ...       ...       ...       ...   \n",
              "995 -0.038021 -0.047989 -0.040039 -0.032782  0.060194  0.140140 -0.044515   \n",
              "996 -0.194847 -0.097017 -0.176285 -0.074455  0.048515  0.169162 -0.271787   \n",
              "997 -0.041421 -0.009365 -0.043257 -0.029077  0.005345  0.034554  0.016982   \n",
              "998 -0.078937 -0.010870 -0.183584  0.067633  0.160960  0.044840 -0.133202   \n",
              "999 -0.050304 -0.048598  0.000071 -0.009315 -0.002784  0.057886  0.009134   \n",
              "\n",
              "            7         8         9  ...      1014      1015      1016  \\\n",
              "0    0.269079 -0.011446  0.147174  ...  0.085047  0.044644  0.029305   \n",
              "1    0.115526 -0.080045 -0.048168  ... -0.066312  0.019515  0.013033   \n",
              "2    0.164035 -0.020979  0.108466  ... -0.134324  0.122922 -0.254643   \n",
              "3    0.207102 -0.072784  0.059620  ... -0.086426  0.095198 -0.206683   \n",
              "4    0.091832 -0.079951 -0.037688  ... -0.062683  0.016980 -0.026042   \n",
              "..        ...       ...       ...  ...       ...       ...       ...   \n",
              "995  0.115942 -0.080381 -0.001695  ... -0.091513 -0.015340 -0.089240   \n",
              "996  0.235547 -0.189705  0.049325  ... -0.056099  0.110536 -0.183148   \n",
              "997  0.103925  0.034755 -0.068198  ...  0.006713  0.027529 -0.007504   \n",
              "998  0.238594  0.041021 -0.015746  ... -0.088993  0.030635 -0.147651   \n",
              "999  0.050964 -0.085908 -0.099759  ... -0.029136 -0.015236 -0.010729   \n",
              "\n",
              "         1017      1018      1019      1020      1021      1022      1023  \n",
              "0   -0.055580  0.076145  0.184646  0.103795 -0.086645  0.180766 -0.033928  \n",
              "1    0.034492  0.065479  0.017960  0.114549 -0.009609  0.083476  0.033553  \n",
              "2   -0.016278  0.119167  0.000146  0.209319 -0.016491  0.454021  0.037648  \n",
              "3   -0.032535  0.164407  0.199990  0.233593 -0.102626  0.227396  0.096586  \n",
              "4    0.068283  0.063758  0.005649  0.087495  0.032726  0.176272 -0.023746  \n",
              "..        ...       ...       ...       ...       ...       ...       ...  \n",
              "995  0.018703  0.097285  0.044413  0.130693 -0.012833  0.210558 -0.002691  \n",
              "996  0.037221  0.178865  0.089573  0.154234 -0.258560  0.422816  0.019143  \n",
              "997  0.030613  0.112227  0.103403  0.080604 -0.021152  0.100993 -0.014497  \n",
              "998 -0.059050  0.205662  0.046806  0.210122 -0.005182  0.265557  0.047361  \n",
              "999  0.063000  0.083446  0.040705  0.062640 -0.010143  0.050548  0.014135  \n",
              "\n",
              "[1000 rows x 1024 columns]"
            ]
          },
          "execution_count": 38,
          "metadata": {},
          "output_type": "execute_result"
        }
      ],
      "source": [
        "df = pd.read_csv(\"/Users/advait/Downloads/encodings (1).csv\")\n",
        "df"
      ]
    },
    {
      "cell_type": "code",
      "execution_count": null,
      "metadata": {
        "id": "gOoQBqJPIX6r",
        "outputId": "d5ca6942-3b74-4166-c990-48537a2c8a91"
      },
      "outputs": [
        {
          "data": {
            "text/plain": [
              "0      4\n",
              "1      3\n",
              "2      1\n",
              "3      2\n",
              "4      2\n",
              "      ..\n",
              "995    1\n",
              "996    4\n",
              "997    4\n",
              "998    1\n",
              "999    3\n",
              "Name: percent_raised, Length: 1000, dtype: int64"
            ]
          },
          "execution_count": 39,
          "metadata": {},
          "output_type": "execute_result"
        }
      ],
      "source": [
        "#bin crowdfunding campaign successes\n",
        "\n",
        "df_outcomes = pd.read_csv(\"/Users/advait/Downloads/small_filtered_geotagged_surgery_campaigns.csv\")\n",
        "df_outcomes['percent_raised'] = df_outcomes['raised_amnt'].to_numpy() / df_outcomes['goal_amnt'].to_numpy()\n",
        "\n",
        "y = pd.qcut(df_outcomes['percent_raised'], 4, labels=False)\n",
        "y = y+1\n",
        "y"
      ]
    },
    {
      "cell_type": "code",
      "execution_count": null,
      "metadata": {
        "id": "AweOkEdaIX6r",
        "outputId": "ac49e8c4-d2ad-45e2-86e1-03c56b16f8e8"
      },
      "outputs": [
        {
          "name": "stdout",
          "output_type": "stream",
          "text": [
            "[t-SNE] Computing 91 nearest neighbors...\n",
            "[t-SNE] Indexed 1000 samples in 0.000s...\n",
            "[t-SNE] Computed neighbors for 1000 samples in 0.015s...\n",
            "[t-SNE] Computed conditional probabilities for sample 1000 / 1000\n",
            "[t-SNE] Mean sigma: 2.788151\n",
            "[t-SNE] KL divergence after 250 iterations with early exaggeration: 53.526741\n",
            "[t-SNE] KL divergence after 1000 iterations: 0.378406\n"
          ]
        },
        {
          "data": {
            "text/plain": [
              "[Text(0.5, 1.0, 'Crowdfunding data T-SNE projection')]"
            ]
          },
          "execution_count": 44,
          "metadata": {},
          "output_type": "execute_result"
        },
        {
          "data": {
            "image/png": "[encoded data removed]",
            "text/plain": [
              "<Figure size 432x288 with 1 Axes>"
            ]
          },
          "metadata": {
            "needs_background": "light"
          },
          "output_type": "display_data"
        }
      ],
      "source": [
        "tsne = TSNE(n_components=2, verbose=1)\n",
        "x = df.to_numpy()\n",
        "z = tsne.fit_transform(x) \n",
        "\n",
        "\n",
        "df = pd.DataFrame()\n",
        "df[\"comp-1\"] = z[:,0]\n",
        "df[\"comp-2\"] = z[:,1]\n",
        "df['y'] = y\n",
        "\n",
        "sns.scatterplot(x=\"comp-1\", y=\"comp-2\", hue=df.y.tolist(),\n",
        "                palette=sns.color_palette(\"hls\", 4),\n",
        "                data=df).set(title=\"Crowdfunding data T-SNE projection\") "
      ]
    },
    {
      "cell_type": "code",
      "execution_count": null,
      "metadata": {
        "id": "TCtganQsIX6r",
        "outputId": "4be8a5b0-8f0f-48f6-8afc-ea9ce8c1d816"
      },
      "outputs": [
        {
          "data": {
            "text/plain": [
              "Text(0.5, 1.0, 'PCA of Crowdfunding Campaigns')"
            ]
          },
          "execution_count": 43,
          "metadata": {},
          "output_type": "execute_result"
        },
        {
          "data": {
            "image/png": "[encoded data removed]",
            "text/plain": [
              "<Figure size 432x288 with 1 Axes>"
            ]
          },
          "metadata": {
            "needs_background": "light"
          },
          "output_type": "display_data"
        }
      ],
      "source": [
        "pca = PCA(n_components=2)\n",
        "X_r = pca.fit(x).transform(x)\n",
        "\n",
        "plt.figure()\n",
        "colors = [\"navy\", \"turquoise\", \"darkorange\"]\n",
        "lw = 2\n",
        "\n",
        "for color, i, target_name in zip(colors, [0, 1, 2], y):\n",
        "    plt.scatter(\n",
        "        X_r[y == i, 0], X_r[y == i, 1], color=color, alpha=0.8, lw=lw, label=target_name\n",
        "    )\n",
        "plt.legend(loc=\"best\", shadow=False, scatterpoints=1)\n",
        "plt.title(\"PCA of Crowdfunding Campaigns\")"
      ]
    },
    {
      "cell_type": "code",
      "execution_count": null,
      "metadata": {
        "id": "NVKMTNCyIX6s"
      },
      "outputs": [],
      "source": []
    },
    {
      "cell_type": "code",
      "execution_count": null,
      "metadata": {
        "id": "tD32Mea2IX6s"
      },
      "outputs": [],
      "source": []
    }
  ],
  "metadata": {
    "kernelspec": {
      "display_name": "Python 3",
      "language": "python",
      "name": "python3"
    },
    "language_info": {
      "codemirror_mode": {
        "name": "ipython",
        "version": 3
      },
      "file_extension": ".py",
      "mimetype": "text/x-python",
      "name": "python",
      "nbconvert_exporter": "python",
      "pygments_lexer": "ipython3",
      "version": "3.6.8"
    },
    "colab": {
      "provenance": []
    }
  },
  "nbformat": 4,
  "nbformat_minor": 0
}